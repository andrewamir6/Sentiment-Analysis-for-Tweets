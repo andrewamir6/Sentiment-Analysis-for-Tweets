{
 "cells": [
  {
   "cell_type": "code",
   "execution_count": 1,
   "id": "5e43c53d-5f3e-427b-8fc1-cac9855052b1",
   "metadata": {},
   "outputs": [],
   "source": [
    "#First import important libraries\n",
    "\n",
    "#for data manipulation I am going to import pandas\n",
    "import pandas as pd\n",
    "\n",
    "#for natural language processing nltk\n",
    "import nltk\n",
    "\n",
    "#for working with strings\n",
    "import string, re\n",
    "\n",
    "#for dataset\n",
    "import numpy as np\n",
    "from nltk.corpus import stopwords, twitter_samples"
   ]
  },
  {
   "cell_type": "code",
   "execution_count": 2,
   "id": "7a77b9df-73fa-4d84-a882-bbdde1f9edbf",
   "metadata": {},
   "outputs": [],
   "source": [
    "# for loading and saving data\n",
    "import pickle "
   ]
  },
  {
   "cell_type": "code",
   "execution_count": 3,
   "id": "6355ae57-6221-427b-8ac3-736b6265cdb7",
   "metadata": {},
   "outputs": [],
   "source": [
    "#for tweets tokenizing\n",
    "from nltk.tokenize import TweetTokenizer "
   ]
  },
  {
   "cell_type": "code",
   "execution_count": 4,
   "id": "38ffa4fc-58e3-48cc-8dfc-35abb09abdba",
   "metadata": {},
   "outputs": [],
   "source": [
    "def process_tweet(tweet):\n",
    "    #First we will remove any unwanted character\n",
    "    tweet=re.sub(r'http\\S+|www\\S+|@\\w+|#\\w+|^RT|^\\$\\w+', '', tweet)\n",
    "    #Second we will tokenize the tweet using tokenizer we will keep all tweets with lower case by using preserve.case and remove usernames using strip_handles and reduce repeated letters in one word using reduce_len\n",
    "    tokenizer=TweetTokenizer(preserve_case=False,strip_handles=True, reduce_len=True)\n",
    "    tweet_tokens=tokenizer.tokenize(tweet)\n",
    "    stemmer = nltk.PorterStemmer()\n",
    "    stopwords_english = stopwords.words('english')\n",
    "    #Remove stopwords\n",
    "    stopwords_english = set(stopwords.words('english'))\n",
    "    tweet_tokens = [word for word in tweet_tokens if word not in stopwords_english]\n",
    "    \n",
    "    #further cleaning for repeated verbs\n",
    "    tweets_clean = []\n",
    "    for word in tweet_tokens:\n",
    "        if (word not in stopwords_english and word not in string.punctuation):\n",
    "            stem_word = stemmer.stem(word)  # stemming word\n",
    "            tweets_clean.append(stem_word)\n",
    "            \n",
    "    return tweets_clean"
   ]
  },
  {
   "cell_type": "code",
   "execution_count": 5,
   "id": "9996aad3-306f-4dd0-a8cb-94595adc948d",
   "metadata": {},
   "outputs": [],
   "source": [
    "def build_freqs(tweets, ys):\n",
    "    \"\"\"\n",
    "    We are going to create a function build frequinceies using list of tweets and ys will be sentiment of each tweet \n",
    "    ys will be transferred into np list of positve and negative sentiment (either 0 or 1) to use in zip function\n",
    "    zip function used to make 1-dimensional array (ys and tweets)\n",
    "    then calling previous define sets word and tweets after cleaning to try it in the function\n",
    "    pairing word and y also in 1- dimension array\n",
    "    if the pair is found before if +=1 if it is not then it is a new entry if =1\n",
    "    \"\"\"\n",
    "    yslist=np.squeeze(ys).tolist()\n",
    "    freqs= {}\n",
    "    for y,tweet in zip(yslist, tweets):\n",
    "        for word in process_tweet(tweet):\n",
    "            pair=(word,y)\n",
    "            if pair in freqs:\n",
    "                freqs[pair] += 1\n",
    "            else:\n",
    "                freqs[pair] = 1\n",
    "\n",
    "    return freqs"
   ]
  },
  {
   "cell_type": "code",
   "execution_count": 6,
   "id": "86a81368-a561-4ca4-a03a-d1099ec11557",
   "metadata": {},
   "outputs": [
    {
     "data": {
      "text/plain": [
       "{('happi', 1): 1, ('dissapoint', 0): 1, ('enjoy', 1): 1, ('depress', 0): 1}"
      ]
     },
     "execution_count": 6,
     "metadata": {},
     "output_type": "execute_result"
    }
   ],
   "source": [
    "tweets=['I am happy','I am dissapointed','I am enjoying myself','I am depressed']\n",
    "ys=[1,0,1,0]\n",
    "result=build_freqs(tweets, ys)\n",
    "result"
   ]
  },
  {
   "cell_type": "code",
   "execution_count": 7,
   "id": "0e43f997-eb8a-4b98-b235-ac63a88f4a32",
   "metadata": {},
   "outputs": [
    {
     "name": "stderr",
     "output_type": "stream",
     "text": [
      "[nltk_data] Downloading package twitter_samples to\n",
      "[nltk_data]     /home/4681ad3e-120f-4aec-9162-\n",
      "[nltk_data]     3e3a66c158f5/nltk_data...\n",
      "[nltk_data]   Package twitter_samples is already up-to-date!\n",
      "[nltk_data] Downloading package stopwords to\n",
      "[nltk_data]     /home/4681ad3e-120f-4aec-9162-\n",
      "[nltk_data]     3e3a66c158f5/nltk_data...\n",
      "[nltk_data]   Package stopwords is already up-to-date!\n"
     ]
    },
    {
     "data": {
      "text/plain": [
       "True"
      ]
     },
     "execution_count": 7,
     "metadata": {},
     "output_type": "execute_result"
    }
   ],
   "source": [
    "nltk.download('twitter_samples')\n",
    "nltk.download('stopwords')"
   ]
  },
  {
   "cell_type": "code",
   "execution_count": 8,
   "id": "c09da03b-4f06-4353-9697-ecae9b2f5daf",
   "metadata": {},
   "outputs": [],
   "source": [
    "all_positive_tweets = twitter_samples.strings('positive_tweets.json')\n",
    "all_negative_tweets = twitter_samples.strings('negative_tweets.json')"
   ]
  },
  {
   "cell_type": "code",
   "execution_count": 9,
   "id": "6fef257a-aa01-4429-82ed-29d426364c9b",
   "metadata": {},
   "outputs": [],
   "source": [
    "test_pos = all_positive_tweets[4000:]\n",
    "train_pos = all_positive_tweets[:4000]\n",
    "test_neg = all_negative_tweets[4000:]\n",
    "train_neg = all_negative_tweets[:4000]"
   ]
  },
  {
   "cell_type": "code",
   "execution_count": 10,
   "id": "b810b1ae-6ec6-4094-bbcf-7a65e3640b5c",
   "metadata": {},
   "outputs": [],
   "source": [
    "train_x = train_pos + train_neg\n",
    "test_x = test_pos + test_neg"
   ]
  },
  {
   "cell_type": "code",
   "execution_count": 11,
   "id": "c6c00507-394c-471d-a19a-d8713ff506a4",
   "metadata": {},
   "outputs": [],
   "source": [
    "train_y = np.append(np.ones((len(train_pos), 1)), np.zeros((len(train_neg), 1)), axis=0)\n",
    "test_y = np.append(np.ones((len(test_pos), 1)), np.zeros((len(test_neg), 1)), axis=0)"
   ]
  },
  {
   "cell_type": "code",
   "execution_count": 12,
   "id": "f7fe85c3-c32f-4610-a8b6-17092ffc9f7a",
   "metadata": {},
   "outputs": [],
   "source": [
    "freqs = build_freqs(train_x, train_y)"
   ]
  },
  {
   "cell_type": "code",
   "execution_count": 13,
   "id": "63b4e037-37d3-494a-9e42-e9a2edab8cfd",
   "metadata": {},
   "outputs": [
    {
     "name": "stdout",
     "output_type": "stream",
     "text": [
      "type(freqs) = <class 'dict'>\n",
      "len(freqs) = 10601\n"
     ]
    }
   ],
   "source": [
    "print(\"type(freqs) = \" + str(type(freqs)))\n",
    "print(\"len(freqs) = \" + str(len(freqs.keys())))"
   ]
  },
  {
   "cell_type": "code",
   "execution_count": 14,
   "id": "29dc6256-6fd6-40d3-8828-d2430aa80c86",
   "metadata": {
    "tags": []
   },
   "outputs": [
    {
     "name": "stdout",
     "output_type": "stream",
     "text": [
      "This is an example of a positive tweet: \n",
      " @gculloty87 Yeah I suppose she was lol! Chat in a bit just off out x :))\n",
      "\n",
      "This is an example of the processed version of the tweet: \n",
      " ['yeah', 'suppos', 'lol', 'chat', 'bit', 'x', ':)']\n"
     ]
    }
   ],
   "source": [
    "print('This is an example of a positive tweet: \\n', train_x[22])\n",
    "print('\\nThis is an example of the processed version of the tweet: \\n', process_tweet(train_x[22]))"
   ]
  },
  {
   "cell_type": "code",
   "execution_count": 15,
   "id": "fca5c40f-8ae6-4b7a-b19f-4979f574711b",
   "metadata": {},
   "outputs": [
    {
     "name": "stdout",
     "output_type": "stream",
     "text": [
      "Accuracy: 0.756\n"
     ]
    }
   ],
   "source": [
    "from sklearn.feature_extraction.text import CountVectorizer, TfidfTransformer\n",
    "from sklearn.linear_model import LogisticRegression\n",
    "from sklearn.metrics import accuracy_score\n",
    "\n",
    "# Step 1: Preprocess the text data using CountVectorizer\n",
    "vectorizer = CountVectorizer(max_features=1000)\n",
    "X_train = vectorizer.fit_transform(train_x)\n",
    "X_test = vectorizer.transform(test_x)\n",
    "\n",
    "# Step 2: Transform the word counts into TF-IDF features\n",
    "tfidf_transformer = TfidfTransformer()\n",
    "X_train_tfidf = tfidf_transformer.fit_transform(X_train)\n",
    "X_test_tfidf = tfidf_transformer.transform(X_test)\n",
    "\n",
    "# Step 3: Create the Logistic Regression model\n",
    "logistic_model = LogisticRegression()\n",
    "\n",
    "# Step 4: Train the model on the training data\n",
    "logistic_model.fit(X_train_tfidf, train_y.ravel())\n",
    "\n",
    "# Step 5: Make predictions on the test data\n",
    "predictions = logistic_model.predict(X_test_tfidf)\n",
    "\n",
    "# Step 6: Evaluate the model's performance - Calculate accuracy\n",
    "accuracy = accuracy_score(test_y, predictions)\n",
    "print(\"Accuracy:\", accuracy)\n"
   ]
  },
  {
   "cell_type": "code",
   "execution_count": 16,
   "id": "8ec6d1f7-63bb-4868-890e-0647b1062480",
   "metadata": {},
   "outputs": [],
   "source": [
    "def predict_tweet(tweet, vectorizer, tfidf_transformer, logistic_model):\n",
    "    \"\"\"\n",
    "    Input:\n",
    "        tweet: a string\n",
    "        vectorizer: the CountVectorizer used for text preprocessing\n",
    "        tfidf_transformer: the TfidfTransformer used for TF-IDF feature transformation\n",
    "        logistic_model: the trained logistic regression model\n",
    "    Output:\n",
    "        y_pred: the probability of a tweet being positive or negative\n",
    "    \"\"\"\n",
    "    # Preprocess the tweet\n",
    "    preprocessed_tweet = process_tweet(tweet)\n",
    "\n",
    "    # Transform the preprocessed tweet into a numerical feature representation\n",
    "    numerical_features = vectorizer.transform([' '.join(preprocessed_tweet)])  # Convert list to string\n",
    "    tfidf_features = tfidf_transformer.transform(numerical_features)\n",
    "\n",
    "    # Use the logistic regression model to predict the sentiment probability\n",
    "    sentiment_probability = logistic_model.predict_proba(tfidf_features)[:, 1]\n",
    "\n",
    "    return sentiment_probability[0]\n"
   ]
  },
  {
   "cell_type": "code",
   "execution_count": 17,
   "id": "a4e0f89c-072d-429a-b637-4d608f2ba41c",
   "metadata": {},
   "outputs": [],
   "source": [
    "def classify_sentiment(sentiment_probability):\n",
    "    \"\"\"\n",
    "    Input:\n",
    "        sentiment_probability: a single probability value (float) representing the sentiment probability of a tweet.\n",
    "    Output:\n",
    "        sentiment_label: a string representing the sentiment label ('Positive', 'Neutral', or 'Negative').\n",
    "    \"\"\"\n",
    "    if sentiment_probability > 0.5:\n",
    "        return 'Positive sentiment'\n",
    "    elif sentiment_probability == 0.5:\n",
    "        return 'Neutral sentiment'\n",
    "    else:\n",
    "        return 'Negative sentiment'\n"
   ]
  },
  {
   "cell_type": "code",
   "execution_count": 18,
   "id": "1a6b3cc3-d7fb-4d17-a888-7521d672cc7a",
   "metadata": {},
   "outputs": [
    {
     "name": "stdout",
     "output_type": "stream",
     "text": [
      "Sentiment Label: Positive sentiment\n"
     ]
    }
   ],
   "source": [
    "my_tweet = 'It is so hot today but it is the perfect day for a beach party'\n",
    "\n",
    "# Step 1: Predict the sentiment probability using the trained model and vectorizer\n",
    "sentiment_probability = predict_tweet(my_tweet, vectorizer, tfidf_transformer, logistic_model)\n",
    "\n",
    "# Classify the sentiment based on the probability\n",
    "sentiment_label = classify_sentiment(sentiment_probability)\n",
    "\n",
    "# Check the sentiment label\n",
    "print(\"Sentiment Label:\", sentiment_label)"
   ]
  }
 ],
 "metadata": {
  "kernelspec": {
   "display_name": "anaconda-panel-2023.05-py310",
   "language": "python",
   "name": "conda-env-anaconda-panel-2023.05-py310-py"
  },
  "language_info": {
   "codemirror_mode": {
    "name": "ipython",
    "version": 3
   },
   "file_extension": ".py",
   "mimetype": "text/x-python",
   "name": "python",
   "nbconvert_exporter": "python",
   "pygments_lexer": "ipython3",
   "version": "3.11.4"
  }
 },
 "nbformat": 4,
 "nbformat_minor": 5
}
